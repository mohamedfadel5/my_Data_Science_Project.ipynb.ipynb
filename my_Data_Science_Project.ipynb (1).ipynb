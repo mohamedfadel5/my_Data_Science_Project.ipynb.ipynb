{
  "metadata": {
    "kernelspec": {
      "name": "python",
      "display_name": "Python (Pyodide)",
      "language": "python"
    },
    "language_info": {
      "codemirror_mode": {
        "name": "python",
        "version": 3
      },
      "file_extension": ".py",
      "mimetype": "text/x-python",
      "name": "python",
      "nbconvert_exporter": "python",
      "pygments_lexer": "ipython3",
      "version": "3.8"
    }
  },
  "nbformat_minor": 5,
  "nbformat": 4,
  "cells": [
    {
      "id": "d114894c-2f0f-4b51-8b4e-251bb1a536bd",
      "cell_type": "markdown",
      "source": "# Data science notebook",
      "metadata": {}
    },
    {
      "id": "874d42b6-5df7-4adc-a496-39079e1abfed",
      "cell_type": "markdown",
      "source": "Introduction\nThis notebook explores various aspects of data science, including programming languages, libraries, tools.\n",
      "metadata": {}
    },
    {
      "id": "d4283fb9-8603-484f-8c15-f3f7dd2c89d1",
      "cell_type": "markdown",
      "source": "## Data Science Languages\n- Python\n- R\n- SQL\n- Julia\n- Scala",
      "metadata": {}
    },
    {
      "id": "152839b9-979e-4d44-afb0-0d6a3c499e0c",
      "cell_type": "markdown",
      "source": "## Data Science Libraries\n- Pandas\n- NumPy\n- Scikit-learn\n- TensorFlow\n- Matplotlib",
      "metadata": {}
    },
    {
      "id": "d0f71dce-6f5d-4e59-9a18-0a643e832efc",
      "cell_type": "markdown",
      "source": "## Data Science Tools\n\n| Tool          | Purpose                    |\n|--------------|----------------------------|\n| Jupyter Notebook | Writing and running code |\n| RStudio        | Statistical computing      |\n| TensorFlow    | Machine learning framework |\n| Power BI      | Data visualization         |",
      "metadata": {}
    },
    {
      "id": "3101095b-11a9-474f-bc73-418b33f6478f",
      "cell_type": "markdown",
      "source": "## Arithmetic Expressions in Python\nBelow are examples of basic arithmetic operations like multiplication and addition.",
      "metadata": {}
    },
    {
      "id": "959a0761-a758-429b-8590-2b13faf7d56b",
      "cell_type": "code",
      "source": "a = 5\nb = 10\nresult = (a * 2) + b\nprint(\"The result is:\", result)",
      "metadata": {
        "trusted": true
      },
      "outputs": [
        {
          "name": "stdout",
          "output_type": "stream",
          "text": "The result is: 20\n"
        }
      ],
      "execution_count": 5
    },
    {
      "id": "328e8ed4-1c70-4d68-ad5e-4716afef0878",
      "cell_type": "code",
      "source": "minutes = 120\nhours = minutes / 60\nprint(f\"{minutes} minutes is equal to {hours} hours\")",
      "metadata": {
        "trusted": true
      },
      "outputs": [
        {
          "name": "stdout",
          "output_type": "stream",
          "text": "120 minutes is equal to 2.0 hours\n"
        }
      ],
      "execution_count": 6
    },
    {
      "id": "cffc7684-07cd-40e9-8276-805ca85b354f",
      "cell_type": "markdown",
      "source": "## Objectives\n- Learn about data science languages\n- Explore data science libraries\n- Understand basic arithmetic operations in Python\n- Use Jupyter notebook for coding",
      "metadata": {}
    },
    {
      "id": "b8997c63-8f1d-436b-b073-95c880350d16",
      "cell_type": "markdown",
      "source": "## Author\n**Mohamed fadel mohamed**",
      "metadata": {}
    },
    {
      "id": "8ab6d2a8-52fc-4c89-9617-9dce3d11514c",
      "cell_type": "code",
      "source": "",
      "metadata": {
        "trusted": true
      },
      "outputs": [],
      "execution_count": null
    }
  ]
}